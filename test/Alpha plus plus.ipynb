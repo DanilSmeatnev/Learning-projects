{
 "cells": [
  {
   "cell_type": "code",
   "execution_count": null,
   "metadata": {
    "collapsed": true
   },
   "outputs": [],
   "source": [
    "#import\n",
    "import sys\n",
    "from enum import Enum\n",
    "import itertools\n",
    "import pygame\n",
    "import snakes.plugins\n",
    "from learning.modules.process_mining.alpha_miner import AlphaMiner , Relations\n",
    "from learning.modules.process_mining.alpha_plus import AlphaPlus\n",
    "snakes.plugins.load('gv', 'snakes.nets', 'nets')\n",
    "from nets import *\n",
    "#just for the notebook\n",
    "from IPython.display import Image\n",
    "import pandas as pd\n"
   ]
  },
  {
   "cell_type": "markdown",
   "metadata": {},
   "source": [
    "#extending ordering Relations"
   ]
  },
  {
   "cell_type": "code",
   "execution_count": null,
   "metadata": {
    "collapsed": true
   },
   "outputs": [],
   "source": [
    "class Relations_plus(Relations):\n",
    "    SYMMETRIC       = '/\\'\n",
    "    XOR_JOIN \t\t=  '<|'\n",
    "    XOR_SPLIT\t\t= '|>'\n",
    "    INDIRECTLY_FOLLOWED = '>>'"
   ]
  },
  {
   "cell_type": "code",
   "execution_count": null,
   "metadata": {
    "collapsed": true
   },
   "outputs": [],
   "source": [
    "# Defining the Alpha plus plus class\n",
    "def __init__(self ,Traces):\n",
    "        super().__init__(Traces)\n",
    "        #traces within an event log\n",
    "        self.traces = Traces\n",
    "        # set of transitions that appear in loop of length one\n",
    "        self.L1L = None\n",
    "        # T' , traces minus L1L\n",
    "        self.T_pr = None\n",
    "        self.F_L1L = None\n",
    "        self.Wm_L1L = SortedDict()\n",
    "        self.alphaObject = None\n",
    "    \n",
    "\n",
    "    def extractRelations(self):\n",
    "            #Extract non repetitive traces, alpha dont take care  about  frequencies !\n",
    "        nnrep_traces = SortedSet()\n",
    "        for trace in self.traces.values():\n",
    "            nnrep_traces.add(\"\".join(trace))\n",
    "        print(nnrep_traces)\n",
    "        #Extract relations between each transitions\n",
    "        # generate Footprint\n",
    "        for transition1 in self.transitions:\n",
    "            self.relations[transition1] = SortedDict()\n",
    "            for transition2 in self.transitions:\n",
    "                concat = transition1+transition2\n",
    "                concat_symetric_1 = transition1+transition2+transition1\n",
    "                concat_symetric_2 = transition2+transition1+transition2\n",
    "\n",
    "                print(concat)\n",
    "                print(concat_symetric_1)\n",
    "                print(concat_symetric_2)\n",
    "\n",
    "                relation = None\n",
    "                for trace in nnrep_traces:\n",
    "                    \n",
    "                    if relation == None :\n",
    "                        if trace.find(concat) >= 0:\n",
    "                            relation = Relations.RIGHT_CAUSALITY\n",
    "\n",
    "                        elif trace.find(concat[::-1]) >= 0:\n",
    "                            relation = Relations.LEFT_CAUSALITY\n",
    "                        elif trace.find(concat_symetric_1):\n",
    "                            relation = Relations_plus.SYMMETRIC\n",
    "                    else:\n",
    "                        if trace.find(concat) >= 0:\n",
    "                            if relation == Relations.LEFT_CAUSALITY:\n",
    "                                if trace.find(concat_symetric_1) <= 0 and trace.find(concat_symetric_2) <= 0:\n",
    "                                    relation = Relations.PARALLEL\n",
    "                        elif trace.find(concat[::-1]) >= 0:\n",
    "                            if relation == Relations.RIGHT_CAUSALITY:\n",
    "                                if trace.find(concat_symetric_1) <= 0 and trace.find(concat_symetric_2) <= 0:\n",
    "                                    relation = Relations.PARALLEL  \n",
    "                                           \n",
    "\n",
    "                if relation == None:\n",
    "                    relation = Relations.CHOICES\n",
    "                self.relations[transition1][transition2] = relation\n",
    "\n",
    "\n",
    "        return self.relations\n",
    "\n",
    "    def extract_L1L(self):\n",
    "        #extract length one loop \n",
    "        self.L1L = SortedSet()\n",
    "        super().getTransitions()\n",
    "        #compute footprint and extract all transitions that have a causality relations with himself\n",
    "        print(self.transitions)\n",
    "        self.extractRelations()\n",
    "        print(self.relations)\n",
    "        for transition in self.transitions:\n",
    "            if self.relations[transition][transition] == Relations.PARALLEL:\n",
    "                self.L1L.add(transition)\n",
    "        return self.L1L\n",
    "    def extract_Tprime(self):\n",
    "        # T' := T \\ L1L\n",
    "        self.T_pr = self.transitions.difference(self.L1L)\n",
    "        return self.T_pr"
   ]
  },
  {
   "cell_type": "markdown",
   "metadata": {},
   "source": []
  }
 ],
 "metadata": {
  "anaconda-cloud": {},
  "kernelspec": {
   "display_name": "python3.5",
   "language": "python",
   "name": "python3.5"
  },
  "language_info": {
   "codemirror_mode": {
    "name": "ipython",
    "version": 3
   },
   "file_extension": ".py",
   "mimetype": "text/x-python",
   "name": "python",
   "nbconvert_exporter": "python",
   "pygments_lexer": "ipython3",
   "version": "3.5.2"
  }
 },
 "nbformat": 4,
 "nbformat_minor": 1
}
